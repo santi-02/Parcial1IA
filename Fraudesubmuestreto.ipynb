{
 "cells": [
  {
   "cell_type": "code",
   "execution_count": 216,
   "id": "af874fe2-7497-442b-a8a8-3564f571c09b",
   "metadata": {},
   "outputs": [],
   "source": [
    "# Manipulación de datos\n",
    "import pandas as pd\n",
    "# Operaciones numéricas\n",
    "import numpy as np\n",
    "# Para medición del tiempo que toma ejecutar los procesos\n",
    "from time import time\n",
    "# Para separar datos de entrenamiento y prueba\n",
    "from sklearn.model_selection import train_test_split\n",
    "# Librería para SVM\n",
    "from sklearn.svm import SVC\n",
    "# Medición de precisión\n",
    "from sklearn.metrics import accuracy_score, confusion_matrix\n",
    "# Generar gráficos\n",
    "import matplotlib.pyplot as plt"
   ]
  },
  {
   "cell_type": "code",
   "execution_count": 218,
   "id": "7e68f70d-7db5-481f-9ee4-bba825987034",
   "metadata": {},
   "outputs": [
    {
     "name": "stdout",
     "output_type": "stream",
     "text": [
      "<class 'pandas.core.frame.DataFrame'>\n",
      "RangeIndex: 284807 entries, 0 to 284806\n",
      "Data columns (total 31 columns):\n",
      " #   Column  Non-Null Count   Dtype  \n",
      "---  ------  --------------   -----  \n",
      " 0   Time    284807 non-null  float64\n",
      " 1   V1      284807 non-null  float64\n",
      " 2   V2      284807 non-null  float64\n",
      " 3   V3      284807 non-null  float64\n",
      " 4   V4      284807 non-null  float64\n",
      " 5   V5      284807 non-null  float64\n",
      " 6   V6      284807 non-null  float64\n",
      " 7   V7      284807 non-null  float64\n",
      " 8   V8      284807 non-null  float64\n",
      " 9   V9      284807 non-null  float64\n",
      " 10  V10     284807 non-null  float64\n",
      " 11  V11     284807 non-null  float64\n",
      " 12  V12     284807 non-null  float64\n",
      " 13  V13     284807 non-null  float64\n",
      " 14  V14     284807 non-null  float64\n",
      " 15  V15     284807 non-null  float64\n",
      " 16  V16     284807 non-null  float64\n",
      " 17  V17     284807 non-null  float64\n",
      " 18  V18     284807 non-null  float64\n",
      " 19  V19     284807 non-null  float64\n",
      " 20  V20     284807 non-null  float64\n",
      " 21  V21     284807 non-null  float64\n",
      " 22  V22     284807 non-null  float64\n",
      " 23  V23     284807 non-null  float64\n",
      " 24  V24     284807 non-null  float64\n",
      " 25  V25     284807 non-null  float64\n",
      " 26  V26     284807 non-null  float64\n",
      " 27  V27     284807 non-null  float64\n",
      " 28  V28     284807 non-null  float64\n",
      " 29  Amount  284807 non-null  float64\n",
      " 30  Class   284807 non-null  int64  \n",
      "dtypes: float64(30), int64(1)\n",
      "memory usage: 67.4 MB\n"
     ]
    }
   ],
   "source": [
    "#leemos los datos y los cargamos a la variable que sera nuesto df\n",
    "fraude_df = pd.read_csv('creditcard.csv')\n",
    "\n",
    "# la informacion que contiene\n",
    "fraude_df.info()\n"
   ]
  },
  {
   "cell_type": "code",
   "execution_count": 220,
   "id": "de918595-d609-4ad1-aaea-fee60635d8f7",
   "metadata": {},
   "outputs": [
    {
     "data": {
      "text/html": [
       "<div>\n",
       "<style scoped>\n",
       "    .dataframe tbody tr th:only-of-type {\n",
       "        vertical-align: middle;\n",
       "    }\n",
       "\n",
       "    .dataframe tbody tr th {\n",
       "        vertical-align: top;\n",
       "    }\n",
       "\n",
       "    .dataframe thead th {\n",
       "        text-align: right;\n",
       "    }\n",
       "</style>\n",
       "<table border=\"1\" class=\"dataframe\">\n",
       "  <thead>\n",
       "    <tr style=\"text-align: right;\">\n",
       "      <th></th>\n",
       "      <th>Time</th>\n",
       "      <th>V1</th>\n",
       "      <th>V2</th>\n",
       "      <th>V3</th>\n",
       "      <th>V4</th>\n",
       "      <th>V5</th>\n",
       "      <th>V6</th>\n",
       "      <th>V7</th>\n",
       "      <th>V8</th>\n",
       "      <th>V9</th>\n",
       "      <th>...</th>\n",
       "      <th>V21</th>\n",
       "      <th>V22</th>\n",
       "      <th>V23</th>\n",
       "      <th>V24</th>\n",
       "      <th>V25</th>\n",
       "      <th>V26</th>\n",
       "      <th>V27</th>\n",
       "      <th>V28</th>\n",
       "      <th>Amount</th>\n",
       "      <th>Class</th>\n",
       "    </tr>\n",
       "  </thead>\n",
       "  <tbody>\n",
       "    <tr>\n",
       "      <th>0</th>\n",
       "      <td>0.0</td>\n",
       "      <td>-1.359807</td>\n",
       "      <td>-0.072781</td>\n",
       "      <td>2.536347</td>\n",
       "      <td>1.378155</td>\n",
       "      <td>-0.338321</td>\n",
       "      <td>0.462388</td>\n",
       "      <td>0.239599</td>\n",
       "      <td>0.098698</td>\n",
       "      <td>0.363787</td>\n",
       "      <td>...</td>\n",
       "      <td>-0.018307</td>\n",
       "      <td>0.277838</td>\n",
       "      <td>-0.110474</td>\n",
       "      <td>0.066928</td>\n",
       "      <td>0.128539</td>\n",
       "      <td>-0.189115</td>\n",
       "      <td>0.133558</td>\n",
       "      <td>-0.021053</td>\n",
       "      <td>149.62</td>\n",
       "      <td>0</td>\n",
       "    </tr>\n",
       "    <tr>\n",
       "      <th>1</th>\n",
       "      <td>0.0</td>\n",
       "      <td>1.191857</td>\n",
       "      <td>0.266151</td>\n",
       "      <td>0.166480</td>\n",
       "      <td>0.448154</td>\n",
       "      <td>0.060018</td>\n",
       "      <td>-0.082361</td>\n",
       "      <td>-0.078803</td>\n",
       "      <td>0.085102</td>\n",
       "      <td>-0.255425</td>\n",
       "      <td>...</td>\n",
       "      <td>-0.225775</td>\n",
       "      <td>-0.638672</td>\n",
       "      <td>0.101288</td>\n",
       "      <td>-0.339846</td>\n",
       "      <td>0.167170</td>\n",
       "      <td>0.125895</td>\n",
       "      <td>-0.008983</td>\n",
       "      <td>0.014724</td>\n",
       "      <td>2.69</td>\n",
       "      <td>0</td>\n",
       "    </tr>\n",
       "    <tr>\n",
       "      <th>2</th>\n",
       "      <td>1.0</td>\n",
       "      <td>-1.358354</td>\n",
       "      <td>-1.340163</td>\n",
       "      <td>1.773209</td>\n",
       "      <td>0.379780</td>\n",
       "      <td>-0.503198</td>\n",
       "      <td>1.800499</td>\n",
       "      <td>0.791461</td>\n",
       "      <td>0.247676</td>\n",
       "      <td>-1.514654</td>\n",
       "      <td>...</td>\n",
       "      <td>0.247998</td>\n",
       "      <td>0.771679</td>\n",
       "      <td>0.909412</td>\n",
       "      <td>-0.689281</td>\n",
       "      <td>-0.327642</td>\n",
       "      <td>-0.139097</td>\n",
       "      <td>-0.055353</td>\n",
       "      <td>-0.059752</td>\n",
       "      <td>378.66</td>\n",
       "      <td>0</td>\n",
       "    </tr>\n",
       "    <tr>\n",
       "      <th>3</th>\n",
       "      <td>1.0</td>\n",
       "      <td>-0.966272</td>\n",
       "      <td>-0.185226</td>\n",
       "      <td>1.792993</td>\n",
       "      <td>-0.863291</td>\n",
       "      <td>-0.010309</td>\n",
       "      <td>1.247203</td>\n",
       "      <td>0.237609</td>\n",
       "      <td>0.377436</td>\n",
       "      <td>-1.387024</td>\n",
       "      <td>...</td>\n",
       "      <td>-0.108300</td>\n",
       "      <td>0.005274</td>\n",
       "      <td>-0.190321</td>\n",
       "      <td>-1.175575</td>\n",
       "      <td>0.647376</td>\n",
       "      <td>-0.221929</td>\n",
       "      <td>0.062723</td>\n",
       "      <td>0.061458</td>\n",
       "      <td>123.50</td>\n",
       "      <td>0</td>\n",
       "    </tr>\n",
       "    <tr>\n",
       "      <th>4</th>\n",
       "      <td>2.0</td>\n",
       "      <td>-1.158233</td>\n",
       "      <td>0.877737</td>\n",
       "      <td>1.548718</td>\n",
       "      <td>0.403034</td>\n",
       "      <td>-0.407193</td>\n",
       "      <td>0.095921</td>\n",
       "      <td>0.592941</td>\n",
       "      <td>-0.270533</td>\n",
       "      <td>0.817739</td>\n",
       "      <td>...</td>\n",
       "      <td>-0.009431</td>\n",
       "      <td>0.798278</td>\n",
       "      <td>-0.137458</td>\n",
       "      <td>0.141267</td>\n",
       "      <td>-0.206010</td>\n",
       "      <td>0.502292</td>\n",
       "      <td>0.219422</td>\n",
       "      <td>0.215153</td>\n",
       "      <td>69.99</td>\n",
       "      <td>0</td>\n",
       "    </tr>\n",
       "  </tbody>\n",
       "</table>\n",
       "<p>5 rows × 31 columns</p>\n",
       "</div>"
      ],
      "text/plain": [
       "   Time        V1        V2        V3        V4        V5        V6        V7  \\\n",
       "0   0.0 -1.359807 -0.072781  2.536347  1.378155 -0.338321  0.462388  0.239599   \n",
       "1   0.0  1.191857  0.266151  0.166480  0.448154  0.060018 -0.082361 -0.078803   \n",
       "2   1.0 -1.358354 -1.340163  1.773209  0.379780 -0.503198  1.800499  0.791461   \n",
       "3   1.0 -0.966272 -0.185226  1.792993 -0.863291 -0.010309  1.247203  0.237609   \n",
       "4   2.0 -1.158233  0.877737  1.548718  0.403034 -0.407193  0.095921  0.592941   \n",
       "\n",
       "         V8        V9  ...       V21       V22       V23       V24       V25  \\\n",
       "0  0.098698  0.363787  ... -0.018307  0.277838 -0.110474  0.066928  0.128539   \n",
       "1  0.085102 -0.255425  ... -0.225775 -0.638672  0.101288 -0.339846  0.167170   \n",
       "2  0.247676 -1.514654  ...  0.247998  0.771679  0.909412 -0.689281 -0.327642   \n",
       "3  0.377436 -1.387024  ... -0.108300  0.005274 -0.190321 -1.175575  0.647376   \n",
       "4 -0.270533  0.817739  ... -0.009431  0.798278 -0.137458  0.141267 -0.206010   \n",
       "\n",
       "        V26       V27       V28  Amount  Class  \n",
       "0 -0.189115  0.133558 -0.021053  149.62      0  \n",
       "1  0.125895 -0.008983  0.014724    2.69      0  \n",
       "2 -0.139097 -0.055353 -0.059752  378.66      0  \n",
       "3 -0.221929  0.062723  0.061458  123.50      0  \n",
       "4  0.502292  0.219422  0.215153   69.99      0  \n",
       "\n",
       "[5 rows x 31 columns]"
      ]
     },
     "execution_count": 220,
     "metadata": {},
     "output_type": "execute_result"
    }
   ],
   "source": [
    "fraude_df.head() # Muestra 5 filas "
   ]
  },
  {
   "cell_type": "markdown",
   "id": "193e25ee-ecfc-4ab4-8998-09aa1d8e181b",
   "metadata": {},
   "source": [
    "### fraude = 1\n",
    "### no fraude =0\n"
   ]
  },
  {
   "cell_type": "code",
   "execution_count": 222,
   "id": "d508f164-b3da-46c5-9052-7335dedab7a5",
   "metadata": {},
   "outputs": [
    {
     "data": {
      "text/plain": [
       "Class\n",
       "0    284315\n",
       "1       492\n",
       "Name: count, dtype: int64"
      ]
     },
     "execution_count": 222,
     "metadata": {},
     "output_type": "execute_result"
    }
   ],
   "source": [
    "# Contamos la cantidad de transacciones fraudulentas (1) y no fraudulentas (0)\n",
    "fraude_df['Class'].value_counts()\n"
   ]
  },
  {
   "cell_type": "markdown",
   "id": "ff5f1c79-767a-4bc2-bb1b-272a69d8e75f",
   "metadata": {},
   "source": [
    "para empezar el proceso de entrenamiento, es necesario separar las características (X) de las etiquetas (y)."
   ]
  },
  {
   "cell_type": "code",
   "execution_count": 224,
   "id": "1417692f-9809-405c-b3bc-ae1d198d7939",
   "metadata": {},
   "outputs": [
    {
     "name": "stdout",
     "output_type": "stream",
     "text": [
      "Distribución en entrenamiento:\n",
      "Class\n",
      "0    213236\n",
      "1       369\n",
      "Name: count, dtype: int64\n",
      "\n",
      "Distribución en prueba:\n",
      "Class\n",
      "0    71079\n",
      "1      123\n",
      "Name: count, dtype: int64\n"
     ]
    }
   ],
   "source": [
    "# Seleccionamos las columnas que usaremos como características para el modelo\n",
    "list_caract=[\n",
    "    'Time', 'V1', 'V2', 'V3', 'V4', 'V5',\n",
    "    'V6', 'V7', 'V8', 'V9', 'V10', 'V11', \n",
    "    'V12', 'V13', 'V14', 'V15', 'V16', 'V17',\n",
    "    'V18', 'V19', 'V20', 'V21', 'V22', 'V23',\n",
    "    'V24', 'V25', 'V26', 'V27', 'V28', 'Amount'\n",
    "]\n",
    "\n",
    "# Creamos el conjunto de características X y la variable objetivo y\n",
    "\n",
    "x = fraude_df[list_caract] # X contiene solo las características seleccionadas\n",
    "y = fraude_df['Class']  # y es la variable objetivo (0 = No Fraude, 1 = Fraude)\n",
    "\n",
    "\n",
    "# Dividimos el conjunto de datos en entrenamiento (75%) y prueba (25%)\n",
    "x_train, x_test, y_train, y_test = train_test_split(x,y, test_size=0.25, random_state=42, stratify=y)\n",
    "\n",
    "# Verificar la distribución de clases en el conjunto de entrenamiento\n",
    "print(\"Distribución en entrenamiento:\")\n",
    "print(y_train.value_counts()) # Muestra cuántas transacciones son fraude y no fraude\n",
    "\n",
    "print(\"\\nDistribución en prueba:\")\n",
    "print(y_test.value_counts()) # Muestra la distribución en el conjunto de prueba\n"
   ]
  },
  {
   "cell_type": "markdown",
   "id": "40e57441-d449-457e-a703-e893765e4def",
   "metadata": {},
   "source": [
    "## aplicamos submuestreo "
   ]
  },
  {
   "cell_type": "code",
   "execution_count": 226,
   "id": "9de53478-fcf2-4fab-bbeb-f76d280f23f1",
   "metadata": {},
   "outputs": [
    {
     "name": "stdout",
     "output_type": "stream",
     "text": [
      "\n",
      "Distribución después del Submuestreo:\n",
      "Class\n",
      "0    369\n",
      "1    369\n",
      "Name: count, dtype: int64\n"
     ]
    },
    {
     "data": {
      "text/plain": [
       "238804    0\n",
       "242848    0\n",
       "205037    0\n",
       "204072    0\n",
       "70934     0\n",
       "         ..\n",
       "11841     1\n",
       "92777     1\n",
       "4920      1\n",
       "239499    1\n",
       "42674     1\n",
       "Name: Class, Length: 738, dtype: int64"
      ]
     },
     "execution_count": 226,
     "metadata": {},
     "output_type": "execute_result"
    }
   ],
   "source": [
    "from imblearn.under_sampling import RandomUnderSampler\n",
    "\n",
    "# Aplicamos submuestreo (undersampling) solo al conjunto de entrenamiento\n",
    "# sampling_strategy=1.0 indica que igualamos la cantidad de clases (misma cantidad de fraudes y no fraudes)\n",
    "undersampler = RandomUnderSampler(sampling_strategy=1.0, random_state=42)  # 1.0 iguala las clases\n",
    "x_train_res, y_train_res = undersampler.fit_resample(x_train, y_train)\n",
    "\n",
    "# Verificamos la nueva distribución de clases después del submuestreo\n",
    "print(\"\\nDistribución después del Submuestreo:\")\n",
    "print(y_train_res.value_counts())\n",
    "\n",
    "# Mostramos el DataFrame resultante\n",
    "y_train_res"
   ]
  },
  {
   "cell_type": "code",
   "execution_count": 228,
   "id": "fe88a3dd-f2b6-48f9-aebe-21b8bba948f0",
   "metadata": {},
   "outputs": [],
   "source": [
    "dfres_y = pd.DataFrame(y_train_res, columns=['Class'])\n",
    "dfsres_X = pd.DataFrame(x_train_res, columns=x_train.columns)"
   ]
  },
  {
   "cell_type": "markdown",
   "id": "3baf0c63-4a67-4122-b654-e30074158016",
   "metadata": {},
   "source": [
    "# visualizamos los datos "
   ]
  },
  {
   "cell_type": "code",
   "execution_count": 230,
   "id": "52ceba5e-db6d-4a0a-b869-b3440c88fcfe",
   "metadata": {},
   "outputs": [
    {
     "data": {
      "image/png": "[encoded data removed]",
      "text/plain": [
       "<Figure size 600x400 with 1 Axes>"
      ]
     },
     "metadata": {},
     "output_type": "display_data"
    }
   ],
   "source": [
    "import seaborn as sns\n",
    "import pandas as pd\n",
    "import matplotlib.pyplot as plt\n",
    "\n",
    "# Convertimos y_train_res en DataFrame asegurando que la columna se llame 'Class'\n",
    "dfclass = pd.DataFrame(y_train_res, columns=['Class'])  \n",
    "\n",
    "# Configurar el gráfico\n",
    "plt.figure(figsize=(6, 4))\n",
    "sns.countplot(x=\"Class\", data=dfclass, hue=\"Class\", palette=['blue', 'orange'], legend=False)\n",
    "\n",
    "# Etiquetas y título\n",
    "plt.xlabel(\"Clase\")\n",
    "plt.ylabel(\"Cantidad\")\n",
    "plt.title(\"Distribución de Clases después de SMOTE\")\n",
    "\n",
    "# Etiquetas del eje X\n",
    "plt.xticks([0, 1], labels=['Clase 0', 'Clase 1'])\n",
    "\n",
    "# Mostrar el gráfico\n",
    "plt.show()\n"
   ]
  },
  {
   "cell_type": "code",
   "execution_count": 232,
   "id": "f984641a-8122-494a-8d08-b8402917d4a4",
   "metadata": {},
   "outputs": [
    {
     "data": {
      "text/html": [
       "<div>\n",
       "<style scoped>\n",
       "    .dataframe tbody tr th:only-of-type {\n",
       "        vertical-align: middle;\n",
       "    }\n",
       "\n",
       "    .dataframe tbody tr th {\n",
       "        vertical-align: top;\n",
       "    }\n",
       "\n",
       "    .dataframe thead th {\n",
       "        text-align: right;\n",
       "    }\n",
       "</style>\n",
       "<table border=\"1\" class=\"dataframe\">\n",
       "  <thead>\n",
       "    <tr style=\"text-align: right;\">\n",
       "      <th></th>\n",
       "      <th>Class</th>\n",
       "    </tr>\n",
       "  </thead>\n",
       "  <tbody>\n",
       "    <tr>\n",
       "      <th>238804</th>\n",
       "      <td>0</td>\n",
       "    </tr>\n",
       "    <tr>\n",
       "      <th>242848</th>\n",
       "      <td>0</td>\n",
       "    </tr>\n",
       "    <tr>\n",
       "      <th>205037</th>\n",
       "      <td>0</td>\n",
       "    </tr>\n",
       "    <tr>\n",
       "      <th>204072</th>\n",
       "      <td>0</td>\n",
       "    </tr>\n",
       "    <tr>\n",
       "      <th>70934</th>\n",
       "      <td>0</td>\n",
       "    </tr>\n",
       "  </tbody>\n",
       "</table>\n",
       "</div>"
      ],
      "text/plain": [
       "        Class\n",
       "238804      0\n",
       "242848      0\n",
       "205037      0\n",
       "204072      0\n",
       "70934       0"
      ]
     },
     "execution_count": 232,
     "metadata": {},
     "output_type": "execute_result"
    }
   ],
   "source": [
    "dfres_y.head()"
   ]
  },
  {
   "cell_type": "markdown",
   "id": "ed5e539c-05c4-49ee-96ed-7d7bf50b29f7",
   "metadata": {},
   "source": [
    "## Creación de la SVM"
   ]
  },
  {
   "cell_type": "markdown",
   "id": "137ccd41-8edb-47ff-9fb7-85fe1a300443",
   "metadata": {},
   "source": [
    "### kernel **lineal**"
   ]
  },
  {
   "cell_type": "code",
   "execution_count": 234,
   "id": "8ec5a1d7-893c-4131-bf0e-966da55de135",
   "metadata": {},
   "outputs": [],
   "source": [
    "# Definició del modelo que llamaremos mod\n",
    "mod = SVC(kernel='linear')"
   ]
  },
  {
   "cell_type": "code",
   "execution_count": 236,
   "id": "d219076d-6a35-4c33-82dd-d033f0b92804",
   "metadata": {},
   "outputs": [
    {
     "name": "stdout",
     "output_type": "stream",
     "text": [
      "Entrenamiento terminado en 78.33909559249878 segundos\n"
     ]
    }
   ],
   "source": [
    "# Guardamos el tiempo de inicio del entrenamiento\n",
    "hora_inicio = time()\n",
    "\n",
    "# Iniciamos el entrenamiento ejecutando el metodo fit\n",
    "# Los valores que enviamos son los valores de X y y\n",
    "#\n",
    "# .values convierte el DataFrame en un array de NumPy, que algunos modelos requieren\n",
    "# .ravel() aplana y_train_res para que sea un vector unidimensional (requerido por scikit-learn)\n",
    "mod.fit(dfsres_X.values, dfres_y.values.ravel())\n",
    "\n",
    "# Imprimimos el tiempo tomado para el entrenamiento\n",
    "print(\"Entrenamiento terminado en {} segundos\".format(time() - hora_inicio))"
   ]
  },
  {
   "cell_type": "code",
   "execution_count": 238,
   "id": "45561fc8-bb4a-4726-833d-5b23f10f375a",
   "metadata": {},
   "outputs": [
    {
     "name": "stderr",
     "output_type": "stream",
     "text": [
      "D:\\anaconda3\\Lib\\site-packages\\sklearn\\base.py:486: UserWarning: X has feature names, but SVC was fitted without feature names\n",
      "  warnings.warn(\n"
     ]
    },
    {
     "name": "stdout",
     "output_type": "stream",
     "text": [
      "Predicción terminada en 0.3130180835723877 segundos\n"
     ]
    }
   ],
   "source": [
    "# Guardamos el tiempo de inicio antes de hacer la predicción\n",
    "hora_inicio = time()\n",
    "# Generamos predicciones en el conjunto de prueba\n",
    "y_pred = mod.predict(x_test)\n",
    "# Mostramos el tiempo tomado para la predicción\n",
    "print(\"Predicción terminada en {} segundos\".format(time() - hora_inicio))"
   ]
  },
  {
   "cell_type": "code",
   "execution_count": 240,
   "id": "a5931354-6534-4ff1-9524-8613bbfc0e59",
   "metadata": {},
   "outputs": [
    {
     "name": "stdout",
     "output_type": "stream",
     "text": [
      "0.9872615937754557\n",
      "Precisión del modelo: 98.73%\n"
     ]
    }
   ],
   "source": [
    "# Calculamos la precisión del modelo comparando valores reales vs predichos\n",
    "accuracy = accuracy_score(y_test, y_pred)\n",
    "print(accuracy)\n",
    "# Mostramos el resultado con formato más claro\n",
    "print(\"Precisión del modelo: {:.2f}%\".format(accuracy * 100))"
   ]
  },
  {
   "cell_type": "markdown",
   "id": "1b351b7e-b71f-48ec-9711-55e3a829e285",
   "metadata": {},
   "source": [
    "### Matriz de confusión (lineal)"
   ]
  },
  {
   "cell_type": "code",
   "execution_count": 242,
   "id": "840f8f32-bf9e-45d0-9be8-5517a6cc1849",
   "metadata": {},
   "outputs": [
    {
     "data": {
      "text/plain": [
       "array([[70194,   885],\n",
       "       [   22,   101]], dtype=int64)"
      ]
     },
     "execution_count": 242,
     "metadata": {},
     "output_type": "execute_result"
    }
   ],
   "source": [
    "# La función confusion_matrix recibe las \"respuestas correctas\" y nuestras predicciones\n",
    "# genera una matriz que indica, para cada clase, la cantidad de predicciones correctas e incorrectas\n",
    "conf_fraude = confusion_matrix(y_test, y_pred)\n",
    "conf_fraude"
   ]
  },
  {
   "cell_type": "code",
   "execution_count": 244,
   "id": "2c4257b3-94c4-4f1f-9a99-a648787b9778",
   "metadata": {},
   "outputs": [],
   "source": [
    "\n",
    "def plot_cm(cm, classes):\n",
    "    \"\"\"Genera un gráfico con la matriz de confusión y etiquetas descriptivas.\n",
    "\n",
    "    Parámetros:\n",
    "    cm : array (Matriz de confusión)\n",
    "    classes : list (Lista con las clases del modelo)\n",
    "    \"\"\"\n",
    "    plt.figure(figsize=(7, 7))\n",
    "    plt.imshow(cm, cmap=plt.cm.Blues)\n",
    "    plt.title('Matriz de Confusión')\n",
    "    plt.colorbar()\n",
    "    \n",
    "    tick_marks = np.arange(len(classes))\n",
    "    plt.xticks(tick_marks, classes, rotation=45)\n",
    "    plt.yticks(tick_marks, classes)\n",
    "\n",
    "    # Definir etiquetas para cada celda de la matriz de confusión\n",
    "    etiquetas = np.array([[\"Verdaderos negativos\", \"Falsos Positivos\"], [\"Falsos Negativos\", \"Verdaderos Positivos\"]])  # Verdaderos/Falsos positivos y negativos\n",
    "    thresh = cm.max() / 2.0  # Umbral para cambiar el color del texto\n",
    "\n",
    "    # Dibujar los valores dentro de la matriz con etiquetas\n",
    "    for i in range(cm.shape[0]):\n",
    "        for j in range(cm.shape[1]):\n",
    "            plt.text(j, i, f\"{cm[i, j]:d}\\n({etiquetas[i, j]})\",\n",
    "                     horizontalalignment=\"center\",\n",
    "                     color=\"white\" if cm[i, j] > thresh else \"black\",\n",
    "                     fontsize=12)\n",
    "\n",
    "    plt.ylabel(\"Valores Reales\")\n",
    "    plt.xlabel(\"Valores Predichos\")\n",
    "    plt.grid(False)  # Evitar líneas innecesarias\n",
    "    plt.show()\n",
    "\n"
   ]
  },
  {
   "cell_type": "code",
   "execution_count": 246,
   "id": "60ba8adc-dcf0-4350-a725-e7dbd8afe2ff",
   "metadata": {},
   "outputs": [
    {
     "data": {
      "image/png": "[encoded data removed]",
      "text/plain": [
       "<Figure size 700x700 with 2 Axes>"
      ]
     },
     "metadata": {},
     "output_type": "display_data"
    }
   ],
   "source": [
    "# Generamos el gráfico de la matriz de confusión usando la función plot_cm\n",
    "# Parámetros:\n",
    "# - conf_fraude: Matriz de confusión obtenida del modelo\n",
    "# - ['No fraude', 'Fraude']: Etiquetas para las clases, indicando si hubo fraude o no\n",
    "plot_cm(conf_fraude, ['No fraude', 'Fraude'])"
   ]
  },
  {
   "cell_type": "markdown",
   "id": "c5cad249-7d8d-4a97-9754-26fbb743fb36",
   "metadata": {},
   "source": [
    "### kernel **Polinomial**"
   ]
  },
  {
   "cell_type": "code",
   "execution_count": 248,
   "id": "801fd98b-b26a-48cd-9ee7-14aaf4e71c3d",
   "metadata": {},
   "outputs": [],
   "source": [
    "# Definimos un nuevo modelo SVM llamado mod2\n",
    "# Usamos un kernel polinómico ('poly') para capturar relaciones no lineales en los datos\n",
    "mod2 = SVC(kernel='poly')"
   ]
  },
  {
   "cell_type": "code",
   "execution_count": 250,
   "id": "8d4458b9-bcde-41cb-873e-487c060361a2",
   "metadata": {},
   "outputs": [
    {
     "name": "stdout",
     "output_type": "stream",
     "text": [
      "Entrenamiento terminado en 0.016860246658325195 segundos\n"
     ]
    }
   ],
   "source": [
    "# Guardamos el registro del momento en el que empezamos el entrenamiento\n",
    "hora_inicio = time()\n",
    "\n",
    "# Iniciamos el entrenamiento ejecutando el metodo fit\n",
    "# Los valores que enviamos son los valores de X y y\n",
    "#\n",
    "# El .ravel() que final de y.values es un pequeño truco para cambiar su forma\n",
    "# esto permite convertir una matriz de dos dimensiones en una sola dimesión,\n",
    "# con ello, cada elemento de esta nueva matriz corresponde a un registro de X\n",
    "mod2.fit(dfsres_X.values, dfres_y.values.ravel())\n",
    "\n",
    "# Imprimimos el tiempo tomado para el entrenamiento\n",
    "print(\"Entrenamiento terminado en {} segundos\".format(time() - hora_inicio))"
   ]
  },
  {
   "cell_type": "code",
   "execution_count": 252,
   "id": "844323d0-7a5d-479b-bfc2-e57705654a42",
   "metadata": {},
   "outputs": [
    {
     "name": "stderr",
     "output_type": "stream",
     "text": [
      "D:\\anaconda3\\Lib\\site-packages\\sklearn\\base.py:486: UserWarning: X has feature names, but SVC was fitted without feature names\n",
      "  warnings.warn(\n"
     ]
    },
    {
     "name": "stdout",
     "output_type": "stream",
     "text": [
      "Predicción terminada en 1.1057605743408203 segundos\n"
     ]
    }
   ],
   "source": [
    "# Otra vez guardaremos registro del tiempo que nos toma crear esta predicción\n",
    "hora_inicio = time()\n",
    "# Iniciamos la predicción con nuestra X de prueba\n",
    "y_pred = mod2.predict(x_test)\n",
    "# Mostramos el tiempo tomado para la predicción\n",
    "print(\"Predicción terminada en {} segundos\".format(time() - hora_inicio))"
   ]
  },
  {
   "cell_type": "code",
   "execution_count": 254,
   "id": "f12593b2-83de-4c93-9562-634eefc9b994",
   "metadata": {},
   "outputs": [
    {
     "name": "stdout",
     "output_type": "stream",
     "text": [
      "0.34190050841268504\n",
      "Precisión del modelo: 34.19%\n"
     ]
    }
   ],
   "source": [
    "# Calculamos la precisión del modelo comparando valores reales vs predichos\n",
    "accuracy = accuracy_score(y_test, y_pred)\n",
    "print(accuracy)\n",
    "# Mostramos el resultado con formato más claro\n",
    "print(\"Precisión del modelo: {:.2f}%\".format(accuracy * 100))"
   ]
  },
  {
   "cell_type": "markdown",
   "id": "3f2a9259-f87b-4586-9f65-4f49316c18ca",
   "metadata": {},
   "source": [
    "#### Matriz de confusión (Polinomial)"
   ]
  },
  {
   "cell_type": "code",
   "execution_count": 256,
   "id": "630de590-63d0-4890-ae1a-b51ebf2284ad",
   "metadata": {},
   "outputs": [
    {
     "data": {
      "text/plain": [
       "array([[24252, 46827],\n",
       "       [   31,    92]], dtype=int64)"
      ]
     },
     "execution_count": 256,
     "metadata": {},
     "output_type": "execute_result"
    }
   ],
   "source": [
    "# La función confusion_matrix recibe las \"respuestas correctas\" y nuestras predicciones\n",
    "# genera una matriz que indica, para cada clase, la cantidad de predicciones correctas e incorrectas\n",
    "conf_fraude = confusion_matrix(y_test, y_pred)\n",
    "conf_fraude"
   ]
  },
  {
   "cell_type": "code",
   "execution_count": 258,
   "id": "95e81d5d-40ce-449f-b5f3-c4e071319860",
   "metadata": {},
   "outputs": [],
   "source": [
    "\n",
    "def plot_cm(cm, classes):\n",
    "    \"\"\"Genera un gráfico con la matriz de confusión y etiquetas descriptivas.\n",
    "\n",
    "    Parámetros:\n",
    "    cm : array (Matriz de confusión)\n",
    "    classes : list (Lista con las clases del modelo)\n",
    "    \"\"\"\n",
    "    plt.figure(figsize=(7, 7))\n",
    "    plt.imshow(cm, cmap=plt.cm.Blues)\n",
    "    plt.title('Matriz de Confusión')\n",
    "    plt.colorbar()\n",
    "    \n",
    "    tick_marks = np.arange(len(classes))\n",
    "    plt.xticks(tick_marks, classes, rotation=45)\n",
    "    plt.yticks(tick_marks, classes)\n",
    "\n",
    "    # Definir etiquetas para cada celda de la matriz de confusión\n",
    "    etiquetas = np.array([[\"Verdaderos negativos\", \"Falsos Positivos\"], [\"Falsos Negativos\", \"Verdaderos Positivos\"]])  # Verdaderos/Falsos positivos y negativos\n",
    "    thresh = cm.max() / 2.0  # Umbral para cambiar el color del texto\n",
    "\n",
    "    # Dibujar los valores dentro de la matriz con etiquetas\n",
    "    for i in range(cm.shape[0]):\n",
    "        for j in range(cm.shape[1]):\n",
    "            plt.text(j, i, f\"{cm[i, j]:d}\\n({etiquetas[i, j]})\",\n",
    "                     horizontalalignment=\"center\",\n",
    "                     color=\"white\" if cm[i, j] > thresh else \"black\",\n",
    "                     fontsize=12)\n",
    "\n",
    "    plt.ylabel(\"Valores Reales\")\n",
    "    plt.xlabel(\"Valores Predichos\")\n",
    "    plt.grid(False)  # Evitar líneas innecesarias\n",
    "    plt.show()\n",
    "\n"
   ]
  },
  {
   "cell_type": "code",
   "execution_count": 260,
   "id": "496db95b-c372-4166-bbe7-df43a2cb929e",
   "metadata": {},
   "outputs": [
    {
     "data": {
      "image/png": "[encoded data removed]",
      "text/plain": [
       "<Figure size 700x700 with 2 Axes>"
      ]
     },
     "metadata": {},
     "output_type": "display_data"
    }
   ],
   "source": [
    "# Generamos el gráfico llamando la función que creamos y enviando los parámetros\n",
    "# cm = nuestra matriz de confusión (conf_fraude)\n",
    "# classes = las clases a predecir (si es fraude o no)\n",
    "plot_cm(conf_fraude, ['No fraude', 'Fraude'])"
   ]
  },
  {
   "cell_type": "markdown",
   "id": "2daefdc2-2994-432d-9c67-959664fe9da3",
   "metadata": {},
   "source": [
    "### kernel **RBF**"
   ]
  },
  {
   "cell_type": "code",
   "execution_count": 262,
   "id": "6e5144f1-59e8-4483-9079-7a319eb9fb89",
   "metadata": {},
   "outputs": [],
   "source": [
    "# Definimos un nuevo modelo SVM llamado mod3\n",
    "# Usamos un kernel polinómico ('RBF') para capturar relaciones no lineales en los datos\n",
    "mod3 = SVC(kernel='rbf')"
   ]
  },
  {
   "cell_type": "code",
   "execution_count": 264,
   "id": "cd97acc5-efca-466b-a789-448d36956cc5",
   "metadata": {},
   "outputs": [
    {
     "name": "stdout",
     "output_type": "stream",
     "text": [
      "Entrenamiento terminado en 0.01934337615966797 segundos\n"
     ]
    }
   ],
   "source": [
    "# Guardamos el registro del momento en el que empezamos el entrenamiento\n",
    "hora_inicio = time()\n",
    "\n",
    "# Iniciamos el entrenamiento ejecutando el metodo fit\n",
    "# Los valores que enviamos son los valores de X y y\n",
    "#\n",
    "# El .ravel() que final de y.values es un pequeño truco para cambiar su forma\n",
    "# esto permite convertir una matriz de dos dimensiones en una sola dimesión,\n",
    "# con ello, cada elemento de esta nueva matriz corresponde a un registro de X\n",
    "mod3.fit(dfsres_X.values, dfres_y.values.ravel())\n",
    "\n",
    "# Imprimimos el tiempo tomado para el entrenamiento\n",
    "print(\"Entrenamiento terminado en {} segundos\".format(time() - hora_inicio))"
   ]
  },
  {
   "cell_type": "code",
   "execution_count": 190,
   "id": "b4211107-37a0-4fc5-bff5-e3e6ee6d31ee",
   "metadata": {},
   "outputs": [
    {
     "name": "stderr",
     "output_type": "stream",
     "text": [
      "D:\\anaconda3\\Lib\\site-packages\\sklearn\\base.py:486: UserWarning: X has feature names, but SVC was fitted without feature names\n",
      "  warnings.warn(\n"
     ]
    },
    {
     "name": "stdout",
     "output_type": "stream",
     "text": [
      "Predicción terminada en 2.9267935752868652 segundos\n"
     ]
    }
   ],
   "source": [
    "# Otra vez guardaremos registro del tiempo que nos toma crear esta predicción\n",
    "hora_inicio = time()\n",
    "# Iniciamos la predicción con nuestra X de prueba\n",
    "y_pred = mod3.predict(x_test)\n",
    "# Mostramos el tiempo tomado para la predicción\n",
    "print(\"Predicción terminada en {} segundos\".format(time() - hora_inicio))"
   ]
  },
  {
   "cell_type": "code",
   "execution_count": null,
   "id": "89a8605d-97e4-4292-8915-e0f8ab500eaa",
   "metadata": {},
   "outputs": [],
   "source": [
    "# Calculamos la precisión del modelo comparando valores reales vs predichos\n",
    "accuracy = accuracy_score(y_test, y_pred)\n",
    "print(accuracy)\n",
    "# Mostramos el resultado con formato más claro\n",
    "print(\"Precisión del modelo: {:.2f}%\".format(accuracy * 100))"
   ]
  },
  {
   "cell_type": "markdown",
   "id": "802ed2a7-5a08-4c89-afe5-9c3dd16bffd9",
   "metadata": {},
   "source": [
    "### Matriz de confusión (RBF)"
   ]
  },
  {
   "cell_type": "code",
   "execution_count": 192,
   "id": "ef8dc39d-a547-4dc9-89ff-45e8c090092e",
   "metadata": {},
   "outputs": [
    {
     "data": {
      "text/plain": [
       "array([[32070, 39009],\n",
       "       [   35,    88]], dtype=int64)"
      ]
     },
     "execution_count": 192,
     "metadata": {},
     "output_type": "execute_result"
    }
   ],
   "source": [
    "# La función confusion_matrix recibe las \"respuestas correctas\" y nuestras predicciones\n",
    "# genera una matriz que indica, para cada clase, la cantidad de predicciones correctas e incorrectas\n",
    "conf_fraude = confusion_matrix(y_test, y_pred)\n",
    "conf_fraude"
   ]
  },
  {
   "cell_type": "code",
   "execution_count": 194,
   "id": "9e0aaaf2-de4f-40d9-814f-d9a9c214f70a",
   "metadata": {},
   "outputs": [],
   "source": [
    "\n",
    "def plot_cm(cm, classes):\n",
    "    \"\"\"Genera un gráfico con la matriz de confusión y etiquetas descriptivas.\n",
    "\n",
    "    Parámetros:\n",
    "    cm : array (Matriz de confusión)\n",
    "    classes : list (Lista con las clases del modelo)\n",
    "    \"\"\"\n",
    "    plt.figure(figsize=(7, 7))\n",
    "    plt.imshow(cm, cmap=plt.cm.Blues)\n",
    "    plt.title('Matriz de Confusión')\n",
    "    plt.colorbar()\n",
    "    \n",
    "    tick_marks = np.arange(len(classes))\n",
    "    plt.xticks(tick_marks, classes, rotation=45)\n",
    "    plt.yticks(tick_marks, classes)\n",
    "\n",
    "    # Definir etiquetas para cada celda de la matriz de confusión\n",
    "    etiquetas = np.array([[\"Verdaderos negativos\", \"Falsos Positivos\"], [\"Falsos Negativos\", \"Verdaderos Positivos\"]])  # Verdaderos/Falsos positivos y negativos\n",
    "    thresh = cm.max() / 2.0  # Umbral para cambiar el color del texto\n",
    "\n",
    "    # Dibujar los valores dentro de la matriz con etiquetas\n",
    "    for i in range(cm.shape[0]):\n",
    "        for j in range(cm.shape[1]):\n",
    "            plt.text(j, i, f\"{cm[i, j]:d}\\n({etiquetas[i, j]})\",\n",
    "                     horizontalalignment=\"center\",\n",
    "                     color=\"white\" if cm[i, j] > thresh else \"black\",\n",
    "                     fontsize=12)\n",
    "\n",
    "    plt.ylabel(\"Valores Reales\")\n",
    "    plt.xlabel(\"Valores Predichos\")\n",
    "    plt.grid(False)  # Evitar líneas innecesarias\n",
    "    plt.show()\n",
    "\n"
   ]
  },
  {
   "cell_type": "code",
   "execution_count": 196,
   "id": "f16031f5-7e5d-4fb6-8be0-e907c087cc09",
   "metadata": {},
   "outputs": [
    {
     "data": {
      "image/png": "[encoded data removed]",
      "text/plain": [
       "<Figure size 700x700 with 2 Axes>"
      ]
     },
     "metadata": {},
     "output_type": "display_data"
    }
   ],
   "source": [
    "# Generamos el gráfico llamando la función que creamos y enviando los parámetros\n",
    "# cm = nuestra matriz de confusión (conf_fraude)\n",
    "# classes = las clases a predecir (si es fraude o no)\n",
    "plot_cm(conf_fraude, ['No fraude', 'Fraude'])"
   ]
  }
 ],
 "metadata": {
  "kernelspec": {
   "display_name": "Python [conda env:base] *",
   "language": "python",
   "name": "conda-base-py"
  },
  "language_info": {
   "codemirror_mode": {
    "name": "ipython",
    "version": 3
   },
   "file_extension": ".py",
   "mimetype": "text/x-python",
   "name": "python",
   "nbconvert_exporter": "python",
   "pygments_lexer": "ipython3",
   "version": "3.12.7"
  }
 },
 "nbformat": 4,
 "nbformat_minor": 5
}
