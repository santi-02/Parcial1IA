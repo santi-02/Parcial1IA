{
 "cells": [
  {
   "cell_type": "markdown",
   "id": "c68a9ce2-e328-4bfd-b182-456fa0ddeafd",
   "metadata": {},
   "source": [
    "Contexto:\n",
    "Una entidad bancaria, lo contrata como ingeniero de desarrollo de IA para realizar un\n",
    "modelo de clasificación binaria para detectar fraudes (1:Fraude, 0:No Fraude), elabore un\n",
    "código basado en el modelo de SVM para resolver el hito de desarrollo propuesto."
   ]
  },
  {
   "cell_type": "code",
   "execution_count": 1,
   "id": "6fbbadbe-6b74-43e9-a3d2-d463deda336f",
   "metadata": {},
   "outputs": [],
   "source": [
    "# Manipulación de datos\n",
    "import pandas as pd\n",
    "# Operaciones numéricas\n",
    "import numpy as np\n",
    "# Para medición del tiempo que toma ejecutar los procesos\n",
    "from time import time\n",
    "# Para separar datos de entrenamiento y prueba\n",
    "from sklearn.model_selection import train_test_split\n",
    "# Librería para SVM\n",
    "from sklearn.svm import SVC\n",
    "# Medición de precisión\n",
    "from sklearn.metrics import accuracy_score, confusion_matrix\n",
    "# Generar gráficos\n",
    "import matplotlib.pyplot as plt"
   ]
  },
  {
   "cell_type": "code",
   "execution_count": 2,
   "id": "dff35bd4-51c3-40d7-96c2-fd3ddaf57970",
   "metadata": {},
   "outputs": [
    {
     "name": "stdout",
     "output_type": "stream",
     "text": [
      "<class 'pandas.core.frame.DataFrame'>\n",
      "RangeIndex: 284807 entries, 0 to 284806\n",
      "Data columns (total 31 columns):\n",
      " #   Column  Non-Null Count   Dtype  \n",
      "---  ------  --------------   -----  \n",
      " 0   Time    284807 non-null  float64\n",
      " 1   V1      284807 non-null  float64\n",
      " 2   V2      284807 non-null  float64\n",
      " 3   V3      284807 non-null  float64\n",
      " 4   V4      284807 non-null  float64\n",
      " 5   V5      284807 non-null  float64\n",
      " 6   V6      284807 non-null  float64\n",
      " 7   V7      284807 non-null  float64\n",
      " 8   V8      284807 non-null  float64\n",
      " 9   V9      284807 non-null  float64\n",
      " 10  V10     284807 non-null  float64\n",
      " 11  V11     284807 non-null  float64\n",
      " 12  V12     284807 non-null  float64\n",
      " 13  V13     284807 non-null  float64\n",
      " 14  V14     284807 non-null  float64\n",
      " 15  V15     284807 non-null  float64\n",
      " 16  V16     284807 non-null  float64\n",
      " 17  V17     284807 non-null  float64\n",
      " 18  V18     284807 non-null  float64\n",
      " 19  V19     284807 non-null  float64\n",
      " 20  V20     284807 non-null  float64\n",
      " 21  V21     284807 non-null  float64\n",
      " 22  V22     284807 non-null  float64\n",
      " 23  V23     284807 non-null  float64\n",
      " 24  V24     284807 non-null  float64\n",
      " 25  V25     284807 non-null  float64\n",
      " 26  V26     284807 non-null  float64\n",
      " 27  V27     284807 non-null  float64\n",
      " 28  V28     284807 non-null  float64\n",
      " 29  Amount  284807 non-null  float64\n",
      " 30  Class   284807 non-null  int64  \n",
      "dtypes: float64(30), int64(1)\n",
      "memory usage: 67.4 MB\n"
     ]
    }
   ],
   "source": [
    "credit_df =pd.read_csv('CreditCard.csv')\n",
    "credit_df.info()"
   ]
  },
  {
   "cell_type": "code",
   "execution_count": 3,
   "id": "d68d2e15-7c1f-48c3-a75a-ad46b1a5521b",
   "metadata": {},
   "outputs": [
    {
     "data": {
      "text/html": [
       "<div>\n",
       "<style scoped>\n",
       "    .dataframe tbody tr th:only-of-type {\n",
       "        vertical-align: middle;\n",
       "    }\n",
       "\n",
       "    .dataframe tbody tr th {\n",
       "        vertical-align: top;\n",
       "    }\n",
       "\n",
       "    .dataframe thead th {\n",
       "        text-align: right;\n",
       "    }\n",
       "</style>\n",
       "<table border=\"1\" class=\"dataframe\">\n",
       "  <thead>\n",
       "    <tr style=\"text-align: right;\">\n",
       "      <th></th>\n",
       "      <th>Time</th>\n",
       "      <th>V1</th>\n",
       "      <th>V2</th>\n",
       "      <th>V3</th>\n",
       "      <th>V4</th>\n",
       "      <th>V5</th>\n",
       "      <th>V6</th>\n",
       "      <th>V7</th>\n",
       "      <th>V8</th>\n",
       "      <th>V9</th>\n",
       "      <th>...</th>\n",
       "      <th>V21</th>\n",
       "      <th>V22</th>\n",
       "      <th>V23</th>\n",
       "      <th>V24</th>\n",
       "      <th>V25</th>\n",
       "      <th>V26</th>\n",
       "      <th>V27</th>\n",
       "      <th>V28</th>\n",
       "      <th>Amount</th>\n",
       "      <th>Class</th>\n",
       "    </tr>\n",
       "  </thead>\n",
       "  <tbody>\n",
       "    <tr>\n",
       "      <th>0</th>\n",
       "      <td>0.0</td>\n",
       "      <td>-1.359807</td>\n",
       "      <td>-0.072781</td>\n",
       "      <td>2.536347</td>\n",
       "      <td>1.378155</td>\n",
       "      <td>-0.338321</td>\n",
       "      <td>0.462388</td>\n",
       "      <td>0.239599</td>\n",
       "      <td>0.098698</td>\n",
       "      <td>0.363787</td>\n",
       "      <td>...</td>\n",
       "      <td>-0.018307</td>\n",
       "      <td>0.277838</td>\n",
       "      <td>-0.110474</td>\n",
       "      <td>0.066928</td>\n",
       "      <td>0.128539</td>\n",
       "      <td>-0.189115</td>\n",
       "      <td>0.133558</td>\n",
       "      <td>-0.021053</td>\n",
       "      <td>149.62</td>\n",
       "      <td>0</td>\n",
       "    </tr>\n",
       "    <tr>\n",
       "      <th>1</th>\n",
       "      <td>0.0</td>\n",
       "      <td>1.191857</td>\n",
       "      <td>0.266151</td>\n",
       "      <td>0.166480</td>\n",
       "      <td>0.448154</td>\n",
       "      <td>0.060018</td>\n",
       "      <td>-0.082361</td>\n",
       "      <td>-0.078803</td>\n",
       "      <td>0.085102</td>\n",
       "      <td>-0.255425</td>\n",
       "      <td>...</td>\n",
       "      <td>-0.225775</td>\n",
       "      <td>-0.638672</td>\n",
       "      <td>0.101288</td>\n",
       "      <td>-0.339846</td>\n",
       "      <td>0.167170</td>\n",
       "      <td>0.125895</td>\n",
       "      <td>-0.008983</td>\n",
       "      <td>0.014724</td>\n",
       "      <td>2.69</td>\n",
       "      <td>0</td>\n",
       "    </tr>\n",
       "    <tr>\n",
       "      <th>2</th>\n",
       "      <td>1.0</td>\n",
       "      <td>-1.358354</td>\n",
       "      <td>-1.340163</td>\n",
       "      <td>1.773209</td>\n",
       "      <td>0.379780</td>\n",
       "      <td>-0.503198</td>\n",
       "      <td>1.800499</td>\n",
       "      <td>0.791461</td>\n",
       "      <td>0.247676</td>\n",
       "      <td>-1.514654</td>\n",
       "      <td>...</td>\n",
       "      <td>0.247998</td>\n",
       "      <td>0.771679</td>\n",
       "      <td>0.909412</td>\n",
       "      <td>-0.689281</td>\n",
       "      <td>-0.327642</td>\n",
       "      <td>-0.139097</td>\n",
       "      <td>-0.055353</td>\n",
       "      <td>-0.059752</td>\n",
       "      <td>378.66</td>\n",
       "      <td>0</td>\n",
       "    </tr>\n",
       "    <tr>\n",
       "      <th>3</th>\n",
       "      <td>1.0</td>\n",
       "      <td>-0.966272</td>\n",
       "      <td>-0.185226</td>\n",
       "      <td>1.792993</td>\n",
       "      <td>-0.863291</td>\n",
       "      <td>-0.010309</td>\n",
       "      <td>1.247203</td>\n",
       "      <td>0.237609</td>\n",
       "      <td>0.377436</td>\n",
       "      <td>-1.387024</td>\n",
       "      <td>...</td>\n",
       "      <td>-0.108300</td>\n",
       "      <td>0.005274</td>\n",
       "      <td>-0.190321</td>\n",
       "      <td>-1.175575</td>\n",
       "      <td>0.647376</td>\n",
       "      <td>-0.221929</td>\n",
       "      <td>0.062723</td>\n",
       "      <td>0.061458</td>\n",
       "      <td>123.50</td>\n",
       "      <td>0</td>\n",
       "    </tr>\n",
       "    <tr>\n",
       "      <th>4</th>\n",
       "      <td>2.0</td>\n",
       "      <td>-1.158233</td>\n",
       "      <td>0.877737</td>\n",
       "      <td>1.548718</td>\n",
       "      <td>0.403034</td>\n",
       "      <td>-0.407193</td>\n",
       "      <td>0.095921</td>\n",
       "      <td>0.592941</td>\n",
       "      <td>-0.270533</td>\n",
       "      <td>0.817739</td>\n",
       "      <td>...</td>\n",
       "      <td>-0.009431</td>\n",
       "      <td>0.798278</td>\n",
       "      <td>-0.137458</td>\n",
       "      <td>0.141267</td>\n",
       "      <td>-0.206010</td>\n",
       "      <td>0.502292</td>\n",
       "      <td>0.219422</td>\n",
       "      <td>0.215153</td>\n",
       "      <td>69.99</td>\n",
       "      <td>0</td>\n",
       "    </tr>\n",
       "  </tbody>\n",
       "</table>\n",
       "<p>5 rows × 31 columns</p>\n",
       "</div>"
      ],
      "text/plain": [
       "   Time        V1        V2        V3        V4        V5        V6        V7  \\\n",
       "0   0.0 -1.359807 -0.072781  2.536347  1.378155 -0.338321  0.462388  0.239599   \n",
       "1   0.0  1.191857  0.266151  0.166480  0.448154  0.060018 -0.082361 -0.078803   \n",
       "2   1.0 -1.358354 -1.340163  1.773209  0.379780 -0.503198  1.800499  0.791461   \n",
       "3   1.0 -0.966272 -0.185226  1.792993 -0.863291 -0.010309  1.247203  0.237609   \n",
       "4   2.0 -1.158233  0.877737  1.548718  0.403034 -0.407193  0.095921  0.592941   \n",
       "\n",
       "         V8        V9  ...       V21       V22       V23       V24       V25  \\\n",
       "0  0.098698  0.363787  ... -0.018307  0.277838 -0.110474  0.066928  0.128539   \n",
       "1  0.085102 -0.255425  ... -0.225775 -0.638672  0.101288 -0.339846  0.167170   \n",
       "2  0.247676 -1.514654  ...  0.247998  0.771679  0.909412 -0.689281 -0.327642   \n",
       "3  0.377436 -1.387024  ... -0.108300  0.005274 -0.190321 -1.175575  0.647376   \n",
       "4 -0.270533  0.817739  ... -0.009431  0.798278 -0.137458  0.141267 -0.206010   \n",
       "\n",
       "        V26       V27       V28  Amount  Class  \n",
       "0 -0.189115  0.133558 -0.021053  149.62      0  \n",
       "1  0.125895 -0.008983  0.014724    2.69      0  \n",
       "2 -0.139097 -0.055353 -0.059752  378.66      0  \n",
       "3 -0.221929  0.062723  0.061458  123.50      0  \n",
       "4  0.502292  0.219422  0.215153   69.99      0  \n",
       "\n",
       "[5 rows x 31 columns]"
      ]
     },
     "execution_count": 3,
     "metadata": {},
     "output_type": "execute_result"
    }
   ],
   "source": [
    "credit_df.head()"
   ]
  },
  {
   "cell_type": "markdown",
   "id": "3b624caa-ed02-4e2f-bdf3-0969ce2d4a4f",
   "metadata": {},
   "source": [
    "**(1:Fraude, 0:No Fraude)**"
   ]
  },
  {
   "cell_type": "code",
   "execution_count": 4,
   "id": "48bc0bf5-dc90-4d25-9d27-5a6f1d91d8bf",
   "metadata": {},
   "outputs": [
    {
     "data": {
      "text/plain": [
       "Class\n",
       "0    284315\n",
       "1       492\n",
       "Name: count, dtype: int64"
      ]
     },
     "execution_count": 4,
     "metadata": {},
     "output_type": "execute_result"
    }
   ],
   "source": [
    "credit_df['Class'].value_counts()"
   ]
  },
  {
   "cell_type": "code",
   "execution_count": 5,
   "id": "6d5509ab-ca70-4d87-883c-8427300f53d0",
   "metadata": {},
   "outputs": [
    {
     "name": "stdout",
     "output_type": "stream",
     "text": [
      "Index(['Time', 'V1', 'V2', 'V3', 'V4', 'V5', 'V6', 'V7', 'V8', 'V9', 'V10',\n",
      "       'V11', 'V12', 'V13', 'V14', 'V15', 'V16', 'V17', 'V18', 'V19', 'V20',\n",
      "       'V21', 'V22', 'V23', 'V24', 'V25', 'V26', 'V27', 'V28', 'Amount',\n",
      "       'Class'],\n",
      "      dtype='object')\n"
     ]
    }
   ],
   "source": [
    "print(credit_df.columns)  # Muestra todas las columnas del DataFrame"
   ]
  },
  {
   "cell_type": "code",
   "execution_count": 6,
   "id": "b3d8a209-3964-4e17-8aa3-83b806d749a7",
   "metadata": {},
   "outputs": [
    {
     "data": {
      "image/png": "[encoded data removed]",
      "text/plain": [
       "<Figure size 640x480 with 1 Axes>"
      ]
     },
     "metadata": {},
     "output_type": "display_data"
    }
   ],
   "source": [
    "num_NoFraude = credit_df[credit_df[\"Class\"] == 0].shape[0]  # Cantidad de No Fraude\n",
    "num_Fraude = credit_df[credit_df[\"Class\"] == 1].shape[0]  # Cantidad de Fraudes\n",
    "\n",
    "# Graficar distribución\n",
    "import matplotlib.pyplot as plt\n",
    "\n",
    "plt.bar([\"No Fraude (%d)\" % num_NoFraude, \"Fraude (%d)\" % num_Fraude],\n",
    "        [num_NoFraude, num_Fraude],\n",
    "        color=[\"blue\", \"red\"],\n",
    "        width=0.8)\n",
    "plt.title(\"Distribución de Fraude en la Base de Datos\")\n",
    "plt.show()"
   ]
  },
  {
   "cell_type": "code",
   "execution_count": 7,
   "id": "e56e808d-e0a6-4863-b098-925703771233",
   "metadata": {},
   "outputs": [],
   "source": [
    "# Eliminar columnas innecesarias antes de la separación en X e y\n",
    "credit_df.drop(columns=['V10', 'V11', 'V12', 'V13', 'V14', 'V15', 'V16', 'V17', \n",
    "                        'V18', 'V19', 'V20', 'V21', 'V22', 'V23', 'V24', 'V25', \n",
    "                        'V26', 'V27', 'V28', 'Amount'], inplace=True)\n",
    "credit_df['Class'] = credit_df['Class']  # Mantener la columna objetivo"
   ]
  },
  {
   "cell_type": "code",
   "execution_count": 8,
   "id": "24efec56-d7bb-49d3-bef0-26cbd1496d2e",
   "metadata": {},
   "outputs": [
    {
     "name": "stdout",
     "output_type": "stream",
     "text": [
      "Index(['Time', 'V1', 'V2', 'V3', 'V4', 'V5', 'V6', 'V7', 'V8', 'V9', 'Class'], dtype='object')\n"
     ]
    }
   ],
   "source": [
    "print(credit_df.columns)  # Muestra todas las columnas del DataFrame"
   ]
  },
  {
   "cell_type": "markdown",
   "id": "9d4dbb11-9612-498b-8b44-cddabad19f91",
   "metadata": {},
   "source": [
    "**Separar características (X) y variable objetivo (y)**\n"
   ]
  },
  {
   "cell_type": "code",
   "execution_count": 9,
   "id": "e6618a35-ba04-4701-87f6-b42f5deda9af",
   "metadata": {},
   "outputs": [
    {
     "name": "stdout",
     "output_type": "stream",
     "text": [
      "Distribución en entrenamiento:\n",
      "Class\n",
      "0    213236\n",
      "1       369\n",
      "Name: count, dtype: int64\n",
      "\n",
      "Distribución en prueba:\n",
      "Class\n",
      "0    71079\n",
      "1      123\n",
      "Name: count, dtype: int64\n"
     ]
    }
   ],
   "source": [
    "# Separar características (X) y variable objetivo (y)\n",
    "X = credit_df.drop(\"Class\", axis=1)  # Todas las columnas excepto 'Class'\n",
    "y = credit_df[\"Class\"]  # Solo la columna 'Class'\n",
    "\n",
    "# Dividir en entrenamiento (75%) y prueba (25%)\n",
    "X_train, X_test, y_train, y_test = train_test_split(X, y, test_size=0.25, random_state=42, stratify=y)\n",
    "\n",
    "# Verificar la distribución de clases en el conjunto de entrenamiento\n",
    "print(\"Distribución en entrenamiento:\")\n",
    "print(y_train.value_counts())\n",
    "\n",
    "print(\"\\nDistribución en prueba:\")\n",
    "print(y_test.value_counts())\n"
   ]
  },
  {
   "cell_type": "markdown",
   "id": "d1c5f529-dae5-4da9-8b27-4754eed8bf05",
   "metadata": {},
   "source": [
    "### Uso de SMOTE"
   ]
  },
  {
   "cell_type": "code",
   "execution_count": 10,
   "id": "885d4b2f-3363-41c5-9016-3bc16a60dfdb",
   "metadata": {},
   "outputs": [
    {
     "name": "stdout",
     "output_type": "stream",
     "text": [
      "Distribución después de SMOTE:\n",
      "Class\n",
      "0    213236\n",
      "1    213236\n",
      "Name: count, dtype: int64\n"
     ]
    },
    {
     "data": {
      "text/plain": [
       "0         0\n",
       "1         0\n",
       "2         0\n",
       "3         0\n",
       "4         0\n",
       "         ..\n",
       "426467    1\n",
       "426468    1\n",
       "426469    1\n",
       "426470    1\n",
       "426471    1\n",
       "Name: Class, Length: 426472, dtype: int64"
      ]
     },
     "execution_count": 10,
     "metadata": {},
     "output_type": "execute_result"
    }
   ],
   "source": [
    "from imblearn.over_sampling import SMOTE\n",
    "\n",
    "# Aplicar SMOTE solo en los datos de entrenamiento\n",
    "smote = SMOTE(random_state=42)\n",
    "X_train_smote, y_train_smote = smote.fit_resample(X_train, y_train)\n",
    "\n",
    "# Verificar la nueva distribución de clases\n",
    "print(\"Distribución después de SMOTE:\")\n",
    "print(y_train_smote.value_counts())\n",
    "y_train_smote"
   ]
  },
  {
   "cell_type": "code",
   "execution_count": 11,
   "id": "5216aea7-947e-4ffe-8663-1204e95d7a95",
   "metadata": {},
   "outputs": [
    {
     "name": "stderr",
     "output_type": "stream",
     "text": [
      "C:\\Users\\santi\\AppData\\Local\\Temp\\ipykernel_23740\\390688160.py:7: FutureWarning: \n",
      "\n",
      "Passing `palette` without assigning `hue` is deprecated and will be removed in v0.14.0. Assign the `x` variable to `hue` and set `legend=False` for the same effect.\n",
      "\n",
      "  sns.countplot(x=dfclass['Class'], palette=['blue', 'orange'])\n"
     ]
    },
    {
     "data": {
      "image/png": "[encoded data removed]",
      "text/plain": [
       "<Figure size 600x400 with 1 Axes>"
      ]
     },
     "metadata": {},
     "output_type": "display_data"
    }
   ],
   "source": [
    "import seaborn as sns\n",
    "\n",
    "dfclass = pd.DataFrame(y_train_smote)\n",
    "\n",
    "# Configurar el gráfico\n",
    "plt.figure(figsize=(6, 4))\n",
    "sns.countplot(x=dfclass['Class'], palette=['blue', 'orange'])\n",
    "\n",
    "# Etiquetas y título\n",
    "plt.xlabel(\"Clase\")\n",
    "plt.ylabel(\"Cantidad\")\n",
    "plt.title(\"Distribución de Clases después de SMOTE\")\n",
    "plt.xticks([0, 1], labels=['Clase 0', 'Clase 1'])\n",
    "\n",
    "# Mostrar el gráfico\n",
    "plt.show()\n"
   ]
  },
  {
   "cell_type": "code",
   "execution_count": 12,
   "id": "c16e5b3d-b08b-44a3-902b-72710fce44c4",
   "metadata": {},
   "outputs": [],
   "source": [
    "dfsmote_y = pd.DataFrame(y_train_smote)\n",
    "dfsmote_X = pd.DataFrame(X_train_smote)"
   ]
  },
  {
   "cell_type": "code",
   "execution_count": 13,
   "id": "eb789752-267f-46a7-93a5-6afd16228547",
   "metadata": {},
   "outputs": [
    {
     "data": {
      "text/html": [
       "<div>\n",
       "<style scoped>\n",
       "    .dataframe tbody tr th:only-of-type {\n",
       "        vertical-align: middle;\n",
       "    }\n",
       "\n",
       "    .dataframe tbody tr th {\n",
       "        vertical-align: top;\n",
       "    }\n",
       "\n",
       "    .dataframe thead th {\n",
       "        text-align: right;\n",
       "    }\n",
       "</style>\n",
       "<table border=\"1\" class=\"dataframe\">\n",
       "  <thead>\n",
       "    <tr style=\"text-align: right;\">\n",
       "      <th></th>\n",
       "      <th>Class</th>\n",
       "    </tr>\n",
       "  </thead>\n",
       "  <tbody>\n",
       "    <tr>\n",
       "      <th>0</th>\n",
       "      <td>0</td>\n",
       "    </tr>\n",
       "    <tr>\n",
       "      <th>1</th>\n",
       "      <td>0</td>\n",
       "    </tr>\n",
       "    <tr>\n",
       "      <th>2</th>\n",
       "      <td>0</td>\n",
       "    </tr>\n",
       "    <tr>\n",
       "      <th>3</th>\n",
       "      <td>0</td>\n",
       "    </tr>\n",
       "    <tr>\n",
       "      <th>4</th>\n",
       "      <td>0</td>\n",
       "    </tr>\n",
       "  </tbody>\n",
       "</table>\n",
       "</div>"
      ],
      "text/plain": [
       "   Class\n",
       "0      0\n",
       "1      0\n",
       "2      0\n",
       "3      0\n",
       "4      0"
      ]
     },
     "execution_count": 13,
     "metadata": {},
     "output_type": "execute_result"
    }
   ],
   "source": [
    "dfsmote_y.head()"
   ]
  },
  {
   "cell_type": "markdown",
   "id": "e06cc034-274e-4874-9af3-ca7fbfcfde7f",
   "metadata": {},
   "source": [
    "### Creación de la SVM\n"
   ]
  },
  {
   "cell_type": "code",
   "execution_count": 14,
   "id": "78ac6651-bda2-4096-9283-7188eaa4c0ad",
   "metadata": {},
   "outputs": [],
   "source": [
    "# Definició del modelo que llamaremos mod\n",
    "mod = SVC(kernel='rbf')"
   ]
  },
  {
   "cell_type": "code",
   "execution_count": null,
   "id": "57b94530-0778-43dc-9602-f7310586faa7",
   "metadata": {},
   "outputs": [],
   "source": [
    "# Guardamos el registro del momento en el que empezamos el entrenamiento\n",
    "hora_inicio = time()\n",
    "\n",
    "# Iniciamos el entrenamiento ejecutando el metodo fit\n",
    "# Los valores que enviamos son los valores de X y y\n",
    "#w\n",
    "# El .ravel() que final de y.values es un pequeño truco para cambiar su forma\n",
    "# esto permite convertir una matriz de dos dimensiones en una sola dimesión,\n",
    "# con ello, cada elemento de esta nueva matriz corresponde a un registro de X\n",
    "mod.fit(dfsmote_X.values, dfsmote_y.values.ravel())\n",
    "\n",
    "# Imprimimos el tiempo tomado para el entrenamiento\n",
    "print(\"Entrenamiento terminado en {} segundos\".format(time() - hora_inicio))"
   ]
  },
  {
   "cell_type": "code",
   "execution_count": 60,
   "id": "53310e38-4058-4cbd-b3fc-5ce86ceef40d",
   "metadata": {},
   "outputs": [
    {
     "name": "stderr",
     "output_type": "stream",
     "text": [
      "D:\\Anaconda\\Lib\\site-packages\\sklearn\\base.py:486: UserWarning: X has feature names, but SVC was fitted without feature names\n",
      "  warnings.warn(\n"
     ]
    },
    {
     "name": "stdout",
     "output_type": "stream",
     "text": [
      "Predicción terminada en 0.8648409843444824 segundos\n"
     ]
    }
   ],
   "source": [
    "# Otra vez guardaremos registro del tiempo que nos toma crear esta predicción\n",
    "hora_inicio = time()\n",
    "# Iniciamos la predicción con nuestra X de prueba\n",
    "y_pred = mod.predict(X_test)\n",
    "# Mostramos el tiempo tomado para la predicción\n",
    "print(\"Predicción terminada en {} segundos\".format(time() - hora_inicio))"
   ]
  },
  {
   "cell_type": "code",
   "execution_count": 61,
   "id": "e9faa85b-2a7f-4423-af54-73b942388a62",
   "metadata": {},
   "outputs": [
    {
     "data": {
      "text/plain": [
       "0.9985955450689588"
      ]
     },
     "execution_count": 61,
     "metadata": {},
     "output_type": "execute_result"
    }
   ],
   "source": [
    "# Evaluamos la precisión \n",
    "accuracy_score(y_test, y_pred)"
   ]
  },
  {
   "cell_type": "markdown",
   "id": "78747d32-8403-4770-929e-09f28973a1f6",
   "metadata": {},
   "source": [
    "### Matriz de confusion"
   ]
  },
  {
   "cell_type": "code",
   "execution_count": 62,
   "id": "b1b2e04d-36a6-4605-9cb8-76b49e7e6c60",
   "metadata": {},
   "outputs": [
    {
     "data": {
      "text/plain": [
       "array([[71061,    18],\n",
       "       [   82,    41]], dtype=int64)"
      ]
     },
     "execution_count": 62,
     "metadata": {},
     "output_type": "execute_result"
    }
   ],
   "source": [
    "# La función confusion_matrix recibe las \"respuestas correctas\" y nuestras predicciones\n",
    "# genera una matriz que indica, para cada clase, la cantidad de predicciones correctas e incorrectas\n",
    "conf_fraude = confusion_matrix(y_test, y_pred)\n",
    "conf_fraude"
   ]
  },
  {
   "cell_type": "code",
   "execution_count": 64,
   "id": "371100e8-0a9d-4f33-a412-59a59f1c9368",
   "metadata": {},
   "outputs": [],
   "source": [
    "def plot_cm(cm, classes):\n",
    "    \"\"\"Esta función se encarga de generar un gráfico con nuestra matriz de confusión.\n",
    "    cm es la matriz generada por confusion_matrix\n",
    "    classes es una lista que contiene las posibles clases que puede predecir nuestro modelo\n",
    "    \"\"\"\n",
    "    plt.imshow(cm, cmap=plt.cm.Blues)\n",
    "    plt.title('Matriz de confusión')\n",
    "    plt.colorbar()\n",
    "    tick_marks = np.arange(len(classes))\n",
    "    plt.xticks(tick_marks, classes, rotation=45)\n",
    "    plt.yticks(tick_marks, classes)\n",
    "    thresh = cm.max() / 2.\n",
    "    for indice_fila, fila in enumerate(cm):\n",
    "        for indice_columna, columna in enumerate(fila):\n",
    "            if cm[indice_fila, indice_columna] > thresh:\n",
    "                color = \"white\"\n",
    "            else:\n",
    "                color = \"black\"\n",
    "            plt.text(\n",
    "                indice_columna,\n",
    "                indice_fila,\n",
    "                cm[indice_fila, indice_columna],\n",
    "                color=color,\n",
    "                horizontalalignment=\"center\"\n",
    "            )\n",
    "    plt.ylabel(\"Valores reales\")\n",
    "    plt.xlabel(\"Valores calculados\")\n",
    "    plt.show()"
   ]
  },
  {
   "cell_type": "code",
   "execution_count": 65,
   "id": "d2785db4-2940-4615-84d3-08b08f99f146",
   "metadata": {},
   "outputs": [
    {
     "data": {
      "image/png": "[encoded data removed]",
      "text/plain": [
       "<Figure size 640x480 with 2 Axes>"
      ]
     },
     "metadata": {},
     "output_type": "display_data"
    }
   ],
   "source": [
    "# Generamos el gráfico llamando la función que creamos y enviando los parámetros\n",
    "# cm = nuestra matriz de confusión (conf_fraude)\n",
    "# classes = las clases a predecir (si es fraude o no)\n",
    "plot_cm(conf_fraude, ['No fraude', 'Fraude'])"
   ]
  }
 ],
 "metadata": {
  "kernelspec": {
   "display_name": "Python 3 (ipykernel)",
   "language": "python",
   "name": "python3"
  },
  "language_info": {
   "codemirror_mode": {
    "name": "ipython",
    "version": 3
   },
   "file_extension": ".py",
   "mimetype": "text/x-python",
   "name": "python",
   "nbconvert_exporter": "python",
   "pygments_lexer": "ipython3",
   "version": "3.12.7"
  }
 },
 "nbformat": 4,
 "nbformat_minor": 5
}
